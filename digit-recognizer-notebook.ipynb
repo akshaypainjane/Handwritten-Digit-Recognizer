{
 "cells": [
  {
   "cell_type": "markdown",
   "metadata": {},
   "source": [
    "# MNIST Handwritten Digit Recognizer\n",
    "\n",
    "In this notebook, I implemented a simple two-layer neural network and trained it on the MNIST digit recognizer dataset."
   ]
  },
  {
   "cell_type": "code",
   "execution_count": 3,
   "metadata": {
    "_cell_guid": "b1076dfc-b9ad-4769-8c92-a6c4dae69d19",
    "_uuid": "8f2839f25d086af736a60e9eeb907d3b93b6e0e5",
    "execution": {
     "iopub.execute_input": "2022-08-25T18:11:12.973284Z",
     "iopub.status.busy": "2022-08-25T18:11:12.972579Z",
     "iopub.status.idle": "2022-08-25T18:11:16.671316Z",
     "shell.execute_reply": "2022-08-25T18:11:16.670023Z",
     "shell.execute_reply.started": "2022-08-25T18:11:12.973232Z"
    }
   },
   "outputs": [],
   "source": [
    "import numpy as np\n",
    "import pandas as pd\n",
    "from matplotlib import pyplot as plt\n",
    "\n",
    "data = pd.read_csv('train.csv')"
   ]
  },
  {
   "cell_type": "code",
   "execution_count": 4,
   "metadata": {},
   "outputs": [
    {
     "data": {
      "text/plain": [
       "(42000, 785)"
      ]
     },
     "execution_count": 4,
     "metadata": {},
     "output_type": "execute_result"
    }
   ],
   "source": [
    "data.shape"
   ]
  },
  {
   "cell_type": "markdown",
   "metadata": {},
   "source": [
    "42k images(rows) and 1 column for label + 784 pixels(columns) in train set"
   ]
  },
  {
   "cell_type": "code",
   "execution_count": 5,
   "metadata": {
    "execution": {
     "iopub.execute_input": "2022-08-13T13:22:59.905536Z",
     "iopub.status.busy": "2022-08-13T13:22:59.905226Z",
     "iopub.status.idle": "2022-08-13T13:23:00.646660Z",
     "shell.execute_reply": "2022-08-13T13:23:00.645655Z",
     "shell.execute_reply.started": "2022-08-13T13:22:59.905507Z"
    }
   },
   "outputs": [],
   "source": [
    "data = np.array(data)\n",
    "m, n = data.shape  # m = rows, n = columns\n",
    "np.random.shuffle(data) # shuffle before splitting into dev and training sets\n",
    "\n",
    "data_dev = data[0:1000].T\n",
    "Y_dev = data_dev[0]   #Y_dev has labels as vertical matrix\n",
    "X_dev = data_dev[1:n] #X_dev has in each column, all the pixels of that image\n",
    "X_dev = X_dev / 255.  #doubt\n",
    "\n",
    "data_train = data[1000:m].T\n",
    "Y_train = data_train[0]\n",
    "X_train = data_train[1:n]\n",
    "X_train = X_train / 255.\n",
    "_,m_train = X_train.shape"
   ]
  },
  {
   "cell_type": "code",
   "execution_count": 6,
   "metadata": {
    "execution": {
     "iopub.execute_input": "2022-08-13T13:23:00.648630Z",
     "iopub.status.busy": "2022-08-13T13:23:00.648199Z",
     "iopub.status.idle": "2022-08-13T13:23:00.659084Z",
     "shell.execute_reply": "2022-08-13T13:23:00.658121Z",
     "shell.execute_reply.started": "2022-08-13T13:23:00.648588Z"
    }
   },
   "outputs": [
    {
     "data": {
      "text/plain": [
       "(784, 41000)"
      ]
     },
     "execution_count": 6,
     "metadata": {},
     "output_type": "execute_result"
    }
   ],
   "source": [
    "X_train.shape"
   ]
  },
  {
   "cell_type": "markdown",
   "metadata": {},
   "source": [
    "Our NN will have a simple two-layer architecture. Input layer $a^{[0]}$ will have 784 units corresponding to the 784 pixels in each 28x28 input image. A hidden layer $a^{[1]}$ will have 10 units with ReLU activation, and finally our output layer $a^{[2]}$ will have 10 units corresponding to the ten digit classes with softmax activation.\n",
    "\n",
    "**Forward propagation**\n",
    "\n",
    "$$Z^{[1]} = W^{[1]} X + b^{[1]}$$\n",
    "$$A^{[1]} = g_{\\text{ReLU}}(Z^{[1]}))$$\n",
    "$$Z^{[2]} = W^{[2]} A^{[1]} + b^{[2]}$$\n",
    "$$A^{[2]} = g_{\\text{softmax}}(Z^{[2]})$$\n",
    "\n",
    "**Backward propagation**\n",
    "\n",
    "$$dZ^{[2]} = A^{[2]} - Y$$\n",
    "$$dW^{[2]} = \\frac{1}{m} dZ^{[2]} A^{[1]T}$$\n",
    "$$dB^{[2]} = \\frac{1}{m} \\Sigma {dZ^{[2]}}$$\n",
    "$$dZ^{[1]} = W^{[2]T} dZ^{[2]} .* g^{[1]\\prime} (z^{[1]})$$\n",
    "$$dW^{[1]} = \\frac{1}{m} dZ^{[1]} A^{[0]T}$$\n",
    "$$dB^{[1]} = \\frac{1}{m} \\Sigma {dZ^{[1]}}$$\n",
    "\n",
    "**Parameter updates**\n",
    "\n",
    "$$W^{[2]} := W^{[2]} - \\alpha dW^{[2]}$$\n",
    "$$b^{[2]} := b^{[2]} - \\alpha db^{[2]}$$\n",
    "$$W^{[1]} := W^{[1]} - \\alpha dW^{[1]}$$\n",
    "$$b^{[1]} := b^{[1]} - \\alpha db^{[1]}$$\n",
    "\n",
    "**Vars and shapes**\n",
    "\n",
    "Forward prop\n",
    "\n",
    "- $A^{[0]} = X$: 784 x m\n",
    "- $Z^{[1]} \\sim A^{[1]}$: 10 x m\n",
    "- $W^{[1]}$: 10 x 784 (as $W^{[1]} A^{[0]} \\sim Z^{[1]}$)\n",
    "- $B^{[1]}$: 10 x 1\n",
    "- $Z^{[2]} \\sim A^{[2]}$: 10 x m\n",
    "- $W^{[2]}$: 10 x 10 (as $W^{[2]} A^{[1]} \\sim Z^{[2]}$)\n",
    "- $B^{[2]}$: 10 x 1\n",
    "\n",
    "Backprop\n",
    "\n",
    "- $dZ^{[2]}$: 10 x m ($~A^{[2]}$)\n",
    "- $dW^{[2]}$: 10 x 10\n",
    "- $dB^{[2]}$: 10 x 1\n",
    "- $dZ^{[1]}$: 10 x m ($~A^{[1]}$)\n",
    "- $dW^{[1]}$: 10 x 10\n",
    "- $dB^{[1]}$: 10 x 1"
   ]
  },
  {
   "cell_type": "code",
   "execution_count": 7,
   "metadata": {},
   "outputs": [
    {
     "data": {
      "text/plain": [
       "9"
      ]
     },
     "execution_count": 7,
     "metadata": {},
     "output_type": "execute_result"
    }
   ],
   "source": [
    "Y_train.max()"
   ]
  },
  {
   "cell_type": "code",
   "execution_count": 8,
   "metadata": {
    "execution": {
     "iopub.execute_input": "2022-08-13T13:23:00.660768Z",
     "iopub.status.busy": "2022-08-13T13:23:00.660431Z",
     "iopub.status.idle": "2022-08-13T13:23:00.676945Z",
     "shell.execute_reply": "2022-08-13T13:23:00.675681Z",
     "shell.execute_reply.started": "2022-08-13T13:23:00.660736Z"
    }
   },
   "outputs": [],
   "source": [
    "def init_params():\n",
    "    W1 = np.random.rand(10, 784) - 0.5    #all 4 params to be [-0.5 to 0.5), hence -0.5 as random.rand gives (0,1]\n",
    "    b1 = np.random.rand(10, 1) - 0.5      #random.rand(rows, col)\n",
    "    W2 = np.random.rand(10, 10) - 0.5\n",
    "    b2 = np.random.rand(10, 1) - 0.5\n",
    "    return W1, b1, W2, b2\n",
    "\n",
    "def ReLU(Z):\n",
    "    return np.maximum(Z, 0)\n",
    "\n",
    "def softmax(Z):\n",
    "    A = np.exp(Z) / sum(np.exp(Z))\n",
    "    return A\n",
    "    \n",
    "def forward_prop(W1, b1, W2, b2, X):\n",
    "    Z1 = W1.dot(X) + b1\n",
    "    A1 = ReLU(Z1)\n",
    "    Z2 = W2.dot(A1) + b2\n",
    "    A2 = softmax(Z2)\n",
    "    return Z1, A1, Z2, A2\n",
    "\n",
    "def ReLU_deriv(Z):\n",
    "    return Z > 0\n",
    "\n",
    "def one_hot(Y):\n",
    "    one_hot_Y = np.zeros((Y.size, Y.max() + 1))  #Y.max() = 9, so 10 numbers (0-9)\n",
    "    one_hot_Y[np.arange(Y.size), Y] = 1   #for every row go to the coloumn where 1 should be put whichever the label is\n",
    "    one_hot_Y = one_hot_Y.T  #after transpose, each column is one of 42k examples\n",
    "    return one_hot_Y\n",
    "\n",
    "def backward_prop(Z1, A1, Z2, A2, W1, W2, X, Y):\n",
    "    one_hot_Y = one_hot(Y)\n",
    "    dZ2 = A2 - one_hot_Y\n",
    "    dW2 = 1 / m * dZ2.dot(A1.T)\n",
    "    db2 = 1 / m * np.sum(dZ2)\n",
    "    dZ1 = W2.T.dot(dZ2) * ReLU_deriv(Z1)\n",
    "    dW1 = 1 / m * dZ1.dot(X.T)\n",
    "    db1 = 1 / m * np.sum(dZ1)\n",
    "    return dW1, db1, dW2, db2\n",
    "\n",
    "def update_params(W1, b1, W2, b2, dW1, db1, dW2, db2, alpha):\n",
    "    W1 = W1 - alpha * dW1\n",
    "    b1 = b1 - alpha * db1    \n",
    "    W2 = W2 - alpha * dW2  \n",
    "    b2 = b2 - alpha * db2    \n",
    "    return W1, b1, W2, b2"
   ]
  },
  {
   "cell_type": "code",
   "execution_count": 9,
   "metadata": {
    "execution": {
     "iopub.execute_input": "2022-08-13T13:23:00.680332Z",
     "iopub.status.busy": "2022-08-13T13:23:00.679900Z",
     "iopub.status.idle": "2022-08-13T13:23:00.691597Z",
     "shell.execute_reply": "2022-08-13T13:23:00.690846Z",
     "shell.execute_reply.started": "2022-08-13T13:23:00.680286Z"
    }
   },
   "outputs": [],
   "source": [
    "def get_predictions(A2):\n",
    "    return np.argmax(A2, 0)\n",
    "\n",
    "def get_accuracy(predictions, Y):\n",
    "    print(predictions, Y)\n",
    "    return np.sum(predictions == Y) / Y.size\n",
    "\n",
    "def gradient_descent(X, Y, alpha, iterations):\n",
    "    W1, b1, W2, b2 = init_params()\n",
    "    for i in range(iterations):\n",
    "        Z1, A1, Z2, A2 = forward_prop(W1, b1, W2, b2, X)\n",
    "        dW1, db1, dW2, db2 = backward_prop(Z1, A1, Z2, A2, W1, W2, X, Y)\n",
    "        W1, b1, W2, b2 = update_params(W1, b1, W2, b2, dW1, db1, dW2, db2, alpha)\n",
    "        if i % 10 == 0:\n",
    "            print(\"Iteration: \", i)\n",
    "            predictions = get_predictions(A2)\n",
    "            print(get_accuracy(predictions, Y))\n",
    "    return W1, b1, W2, b2"
   ]
  },
  {
   "cell_type": "code",
   "execution_count": 10,
   "metadata": {},
   "outputs": [
    {
     "data": {
      "text/plain": [
       "(784, 41000)"
      ]
     },
     "execution_count": 10,
     "metadata": {},
     "output_type": "execute_result"
    }
   ],
   "source": [
    "X_train.shape"
   ]
  },
  {
   "cell_type": "code",
   "execution_count": 11,
   "metadata": {
    "execution": {
     "iopub.execute_input": "2022-08-13T13:23:00.693831Z",
     "iopub.status.busy": "2022-08-13T13:23:00.693234Z",
     "iopub.status.idle": "2022-08-13T13:23:41.708409Z",
     "shell.execute_reply": "2022-08-13T13:23:41.707366Z",
     "shell.execute_reply.started": "2022-08-13T13:23:00.693790Z"
    }
   },
   "outputs": [
    {
     "name": "stdout",
     "output_type": "stream",
     "text": [
      "Iteration:  0\n",
      "[4 4 9 ... 4 6 4] [1 3 6 ... 9 7 0]\n",
      "0.12504878048780488\n",
      "Iteration:  10\n",
      "[6 4 4 ... 4 6 4] [1 3 6 ... 9 7 0]\n",
      "0.19048780487804878\n",
      "Iteration:  20\n",
      "[1 4 4 ... 4 4 0] [1 3 6 ... 9 7 0]\n",
      "0.2636341463414634\n",
      "Iteration:  30\n",
      "[1 4 4 ... 4 3 0] [1 3 6 ... 9 7 0]\n",
      "0.355390243902439\n",
      "Iteration:  40\n",
      "[1 3 2 ... 4 3 0] [1 3 6 ... 9 7 0]\n",
      "0.4470487804878049\n",
      "Iteration:  50\n",
      "[1 3 6 ... 9 3 0] [1 3 6 ... 9 7 0]\n",
      "0.5244634146341464\n",
      "Iteration:  60\n",
      "[1 3 6 ... 9 3 0] [1 3 6 ... 9 7 0]\n",
      "0.5840731707317073\n",
      "Iteration:  70\n",
      "[1 3 6 ... 9 7 0] [1 3 6 ... 9 7 0]\n",
      "0.6241707317073171\n",
      "Iteration:  80\n",
      "[1 3 6 ... 9 7 0] [1 3 6 ... 9 7 0]\n",
      "0.6544878048780488\n",
      "Iteration:  90\n",
      "[1 3 6 ... 9 9 0] [1 3 6 ... 9 7 0]\n",
      "0.6773658536585366\n",
      "Iteration:  100\n",
      "[1 3 6 ... 9 9 0] [1 3 6 ... 9 7 0]\n",
      "0.6942439024390243\n",
      "Iteration:  110\n",
      "[1 3 6 ... 9 9 0] [1 3 6 ... 9 7 0]\n",
      "0.7087073170731707\n",
      "Iteration:  120\n",
      "[1 3 6 ... 9 9 0] [1 3 6 ... 9 7 0]\n",
      "0.7202926829268292\n",
      "Iteration:  130\n",
      "[1 3 6 ... 9 9 0] [1 3 6 ... 9 7 0]\n",
      "0.7297317073170732\n",
      "Iteration:  140\n",
      "[1 3 6 ... 9 9 0] [1 3 6 ... 9 7 0]\n",
      "0.7386585365853658\n",
      "Iteration:  150\n",
      "[1 3 6 ... 9 9 0] [1 3 6 ... 9 7 0]\n",
      "0.7465853658536585\n",
      "Iteration:  160\n",
      "[1 3 6 ... 9 9 0] [1 3 6 ... 9 7 0]\n",
      "0.753219512195122\n",
      "Iteration:  170\n",
      "[1 3 6 ... 9 9 0] [1 3 6 ... 9 7 0]\n",
      "0.7594878048780488\n",
      "Iteration:  180\n",
      "[1 3 6 ... 9 9 0] [1 3 6 ... 9 7 0]\n",
      "0.7648292682926829\n",
      "Iteration:  190\n",
      "[1 3 6 ... 9 9 0] [1 3 6 ... 9 7 0]\n",
      "0.7704878048780488\n",
      "Iteration:  200\n",
      "[1 3 6 ... 9 9 0] [1 3 6 ... 9 7 0]\n",
      "0.7746585365853659\n",
      "Iteration:  210\n",
      "[1 3 6 ... 9 9 0] [1 3 6 ... 9 7 0]\n",
      "0.779609756097561\n",
      "Iteration:  220\n",
      "[1 3 6 ... 9 9 0] [1 3 6 ... 9 7 0]\n",
      "0.7840243902439025\n",
      "Iteration:  230\n",
      "[1 3 6 ... 9 9 0] [1 3 6 ... 9 7 0]\n",
      "0.7878780487804878\n",
      "Iteration:  240\n",
      "[1 3 6 ... 9 9 0] [1 3 6 ... 9 7 0]\n",
      "0.7917073170731708\n",
      "Iteration:  250\n",
      "[1 3 6 ... 9 9 0] [1 3 6 ... 9 7 0]\n",
      "0.7947317073170732\n",
      "Iteration:  260\n",
      "[1 3 6 ... 9 9 0] [1 3 6 ... 9 7 0]\n",
      "0.7980243902439025\n",
      "Iteration:  270\n",
      "[1 3 6 ... 9 9 0] [1 3 6 ... 9 7 0]\n",
      "0.8014146341463415\n",
      "Iteration:  280\n",
      "[1 3 6 ... 9 9 0] [1 3 6 ... 9 7 0]\n",
      "0.8046829268292683\n",
      "Iteration:  290\n",
      "[1 3 6 ... 9 9 0] [1 3 6 ... 9 7 0]\n",
      "0.807609756097561\n",
      "Iteration:  300\n",
      "[1 3 6 ... 9 9 0] [1 3 6 ... 9 7 0]\n",
      "0.8107073170731708\n",
      "Iteration:  310\n",
      "[1 3 6 ... 9 9 0] [1 3 6 ... 9 7 0]\n",
      "0.8129756097560975\n",
      "Iteration:  320\n",
      "[1 3 6 ... 9 9 0] [1 3 6 ... 9 7 0]\n",
      "0.8150487804878048\n",
      "Iteration:  330\n",
      "[1 3 6 ... 9 9 0] [1 3 6 ... 9 7 0]\n",
      "0.8178292682926829\n",
      "Iteration:  340\n",
      "[1 3 6 ... 9 9 0] [1 3 6 ... 9 7 0]\n",
      "0.8203658536585365\n",
      "Iteration:  350\n",
      "[1 3 6 ... 9 9 0] [1 3 6 ... 9 7 0]\n",
      "0.8222682926829268\n",
      "Iteration:  360\n",
      "[1 3 6 ... 9 9 0] [1 3 6 ... 9 7 0]\n",
      "0.8244878048780487\n",
      "Iteration:  370\n",
      "[1 3 6 ... 9 9 0] [1 3 6 ... 9 7 0]\n",
      "0.8265121951219512\n",
      "Iteration:  380\n",
      "[1 3 6 ... 9 9 0] [1 3 6 ... 9 7 0]\n",
      "0.8284634146341463\n",
      "Iteration:  390\n",
      "[1 3 6 ... 9 9 0] [1 3 6 ... 9 7 0]\n",
      "0.8303658536585365\n",
      "Iteration:  400\n",
      "[1 3 6 ... 9 9 0] [1 3 6 ... 9 7 0]\n",
      "0.8324146341463414\n",
      "Iteration:  410\n",
      "[1 3 6 ... 9 9 0] [1 3 6 ... 9 7 0]\n",
      "0.8342195121951219\n",
      "Iteration:  420\n",
      "[1 3 6 ... 9 9 0] [1 3 6 ... 9 7 0]\n",
      "0.8359512195121951\n",
      "Iteration:  430\n",
      "[1 3 6 ... 9 9 0] [1 3 6 ... 9 7 0]\n",
      "0.837390243902439\n",
      "Iteration:  440\n",
      "[1 3 6 ... 9 9 0] [1 3 6 ... 9 7 0]\n",
      "0.8385609756097561\n",
      "Iteration:  450\n",
      "[1 3 6 ... 9 9 0] [1 3 6 ... 9 7 0]\n",
      "0.8398536585365853\n",
      "Iteration:  460\n",
      "[1 3 6 ... 9 9 0] [1 3 6 ... 9 7 0]\n",
      "0.8417317073170731\n",
      "Iteration:  470\n",
      "[1 3 6 ... 9 9 0] [1 3 6 ... 9 7 0]\n",
      "0.8428536585365853\n",
      "Iteration:  480\n",
      "[1 3 6 ... 9 9 0] [1 3 6 ... 9 7 0]\n",
      "0.8442926829268292\n",
      "Iteration:  490\n",
      "[1 3 6 ... 9 9 0] [1 3 6 ... 9 7 0]\n",
      "0.8455121951219512\n"
     ]
    }
   ],
   "source": [
    "W1, b1, W2, b2 = gradient_descent(X_train, Y_train, 0.10, 500)"
   ]
  },
  {
   "cell_type": "markdown",
   "metadata": {},
   "source": [
    "~84% accuracy on training set."
   ]
  },
  {
   "cell_type": "code",
   "execution_count": 12,
   "metadata": {
    "execution": {
     "iopub.execute_input": "2022-08-13T13:23:41.710051Z",
     "iopub.status.busy": "2022-08-13T13:23:41.709684Z",
     "iopub.status.idle": "2022-08-13T13:23:41.717789Z",
     "shell.execute_reply": "2022-08-13T13:23:41.716999Z",
     "shell.execute_reply.started": "2022-08-13T13:23:41.710021Z"
    }
   },
   "outputs": [],
   "source": [
    "def make_predictions(X, W1, b1, W2, b2):\n",
    "    _, _, _, A2 = forward_prop(W1, b1, W2, b2, X)\n",
    "    predictions = get_predictions(A2)\n",
    "    return predictions\n",
    "\n",
    "def test_prediction(index, W1, b1, W2, b2):\n",
    "    current_image = X_train[:, index, None]\n",
    "    prediction = make_predictions(X_train[:, index, None], W1, b1, W2, b2)\n",
    "    label = Y_train[index]\n",
    "    print(\"Prediction: \", prediction)\n",
    "    print(\"Label: \", label)\n",
    "    \n",
    "    current_image = current_image.reshape((28, 28)) * 255\n",
    "    plt.gray()\n",
    "    plt.imshow(current_image, interpolation='nearest')\n",
    "    plt.show()"
   ]
  },
  {
   "cell_type": "markdown",
   "metadata": {},
   "source": [
    "Let's look at a couple of examples:"
   ]
  },
  {
   "cell_type": "code",
   "execution_count": 31,
   "metadata": {},
   "outputs": [
    {
     "data": {
      "text/plain": [
       "(2352, 0)"
      ]
     },
     "execution_count": 31,
     "metadata": {},
     "output_type": "execute_result"
    }
   ],
   "source": [
    "data2 = pd.read_csv('geek.csv')\n",
    "data2 = data2.T\n",
    "data2.shape\n",
    "# X_train.shape\n",
    "# data2.head()"
   ]
  },
  {
   "cell_type": "code",
   "execution_count": 32,
   "metadata": {},
   "outputs": [
    {
     "ename": "TypeError",
     "evalue": "'(slice(None, None, None), 1, None)' is an invalid key",
     "output_type": "error",
     "traceback": [
      "\u001b[1;31m---------------------------------------------------------------------------\u001b[0m",
      "\u001b[1;31mTypeError\u001b[0m                                 Traceback (most recent call last)",
      "\u001b[1;32m<ipython-input-32-3a5432e98826>\u001b[0m in \u001b[0;36m<module>\u001b[1;34m\u001b[0m\n\u001b[1;32m----> 1\u001b[1;33m \u001b[0mimage2\u001b[0m \u001b[1;33m=\u001b[0m \u001b[0mdata2\u001b[0m\u001b[1;33m[\u001b[0m\u001b[1;33m:\u001b[0m\u001b[1;33m,\u001b[0m\u001b[1;36m1\u001b[0m\u001b[1;33m,\u001b[0m\u001b[1;32mNone\u001b[0m\u001b[1;33m]\u001b[0m\u001b[1;33m\u001b[0m\u001b[1;33m\u001b[0m\u001b[0m\n\u001b[0m\u001b[0;32m      2\u001b[0m \u001b[0mpred2\u001b[0m \u001b[1;33m=\u001b[0m \u001b[0mmake_predicitions\u001b[0m\u001b[1;33m(\u001b[0m\u001b[0mimage2\u001b[0m\u001b[1;33m,\u001b[0m \u001b[0mW1\u001b[0m\u001b[1;33m,\u001b[0m \u001b[0mb1\u001b[0m\u001b[1;33m,\u001b[0m \u001b[0mW2\u001b[0m\u001b[1;33m,\u001b[0m \u001b[0mb2\u001b[0m\u001b[1;33m)\u001b[0m\u001b[1;33m\u001b[0m\u001b[1;33m\u001b[0m\u001b[0m\n\u001b[0;32m      3\u001b[0m \u001b[0mimage2\u001b[0m \u001b[1;33m=\u001b[0m \u001b[0mimage2\u001b[0m\u001b[1;33m.\u001b[0m\u001b[0mreshape\u001b[0m\u001b[1;33m(\u001b[0m\u001b[1;33m(\u001b[0m\u001b[1;36m28\u001b[0m\u001b[1;33m,\u001b[0m\u001b[1;36m28\u001b[0m\u001b[1;33m)\u001b[0m\u001b[1;33m)\u001b[0m \u001b[1;33m*\u001b[0m \u001b[1;36m255\u001b[0m\u001b[1;33m\u001b[0m\u001b[1;33m\u001b[0m\u001b[0m\n\u001b[0;32m      4\u001b[0m \u001b[0mplt\u001b[0m\u001b[1;33m.\u001b[0m\u001b[0mgray\u001b[0m\u001b[1;33m(\u001b[0m\u001b[1;33m)\u001b[0m\u001b[1;33m\u001b[0m\u001b[1;33m\u001b[0m\u001b[0m\n\u001b[0;32m      5\u001b[0m \u001b[0mplt\u001b[0m\u001b[1;33m.\u001b[0m\u001b[0mimshow\u001b[0m\u001b[1;33m(\u001b[0m\u001b[0mimage2\u001b[0m\u001b[1;33m,\u001b[0m \u001b[0minterpolation\u001b[0m\u001b[1;33m=\u001b[0m\u001b[1;34m'nearest'\u001b[0m\u001b[1;33m)\u001b[0m\u001b[1;33m\u001b[0m\u001b[1;33m\u001b[0m\u001b[0m\n",
      "\u001b[1;32m~\\anaconda3\\lib\\site-packages\\pandas\\core\\frame.py\u001b[0m in \u001b[0;36m__getitem__\u001b[1;34m(self, key)\u001b[0m\n\u001b[0;32m   3022\u001b[0m             \u001b[1;32mif\u001b[0m \u001b[0mself\u001b[0m\u001b[1;33m.\u001b[0m\u001b[0mcolumns\u001b[0m\u001b[1;33m.\u001b[0m\u001b[0mnlevels\u001b[0m \u001b[1;33m>\u001b[0m \u001b[1;36m1\u001b[0m\u001b[1;33m:\u001b[0m\u001b[1;33m\u001b[0m\u001b[1;33m\u001b[0m\u001b[0m\n\u001b[0;32m   3023\u001b[0m                 \u001b[1;32mreturn\u001b[0m \u001b[0mself\u001b[0m\u001b[1;33m.\u001b[0m\u001b[0m_getitem_multilevel\u001b[0m\u001b[1;33m(\u001b[0m\u001b[0mkey\u001b[0m\u001b[1;33m)\u001b[0m\u001b[1;33m\u001b[0m\u001b[1;33m\u001b[0m\u001b[0m\n\u001b[1;32m-> 3024\u001b[1;33m             \u001b[0mindexer\u001b[0m \u001b[1;33m=\u001b[0m \u001b[0mself\u001b[0m\u001b[1;33m.\u001b[0m\u001b[0mcolumns\u001b[0m\u001b[1;33m.\u001b[0m\u001b[0mget_loc\u001b[0m\u001b[1;33m(\u001b[0m\u001b[0mkey\u001b[0m\u001b[1;33m)\u001b[0m\u001b[1;33m\u001b[0m\u001b[1;33m\u001b[0m\u001b[0m\n\u001b[0m\u001b[0;32m   3025\u001b[0m             \u001b[1;32mif\u001b[0m \u001b[0mis_integer\u001b[0m\u001b[1;33m(\u001b[0m\u001b[0mindexer\u001b[0m\u001b[1;33m)\u001b[0m\u001b[1;33m:\u001b[0m\u001b[1;33m\u001b[0m\u001b[1;33m\u001b[0m\u001b[0m\n\u001b[0;32m   3026\u001b[0m                 \u001b[0mindexer\u001b[0m \u001b[1;33m=\u001b[0m \u001b[1;33m[\u001b[0m\u001b[0mindexer\u001b[0m\u001b[1;33m]\u001b[0m\u001b[1;33m\u001b[0m\u001b[1;33m\u001b[0m\u001b[0m\n",
      "\u001b[1;32m~\\anaconda3\\lib\\site-packages\\pandas\\core\\indexes\\base.py\u001b[0m in \u001b[0;36mget_loc\u001b[1;34m(self, key, method, tolerance)\u001b[0m\n\u001b[0;32m   3078\u001b[0m             \u001b[0mcasted_key\u001b[0m \u001b[1;33m=\u001b[0m \u001b[0mself\u001b[0m\u001b[1;33m.\u001b[0m\u001b[0m_maybe_cast_indexer\u001b[0m\u001b[1;33m(\u001b[0m\u001b[0mkey\u001b[0m\u001b[1;33m)\u001b[0m\u001b[1;33m\u001b[0m\u001b[1;33m\u001b[0m\u001b[0m\n\u001b[0;32m   3079\u001b[0m             \u001b[1;32mtry\u001b[0m\u001b[1;33m:\u001b[0m\u001b[1;33m\u001b[0m\u001b[1;33m\u001b[0m\u001b[0m\n\u001b[1;32m-> 3080\u001b[1;33m                 \u001b[1;32mreturn\u001b[0m \u001b[0mself\u001b[0m\u001b[1;33m.\u001b[0m\u001b[0m_engine\u001b[0m\u001b[1;33m.\u001b[0m\u001b[0mget_loc\u001b[0m\u001b[1;33m(\u001b[0m\u001b[0mcasted_key\u001b[0m\u001b[1;33m)\u001b[0m\u001b[1;33m\u001b[0m\u001b[1;33m\u001b[0m\u001b[0m\n\u001b[0m\u001b[0;32m   3081\u001b[0m             \u001b[1;32mexcept\u001b[0m \u001b[0mKeyError\u001b[0m \u001b[1;32mas\u001b[0m \u001b[0merr\u001b[0m\u001b[1;33m:\u001b[0m\u001b[1;33m\u001b[0m\u001b[1;33m\u001b[0m\u001b[0m\n\u001b[0;32m   3082\u001b[0m                 \u001b[1;32mraise\u001b[0m \u001b[0mKeyError\u001b[0m\u001b[1;33m(\u001b[0m\u001b[0mkey\u001b[0m\u001b[1;33m)\u001b[0m \u001b[1;32mfrom\u001b[0m \u001b[0merr\u001b[0m\u001b[1;33m\u001b[0m\u001b[1;33m\u001b[0m\u001b[0m\n",
      "\u001b[1;32mpandas\\_libs\\index.pyx\u001b[0m in \u001b[0;36mpandas._libs.index.IndexEngine.get_loc\u001b[1;34m()\u001b[0m\n",
      "\u001b[1;32mpandas\\_libs\\index.pyx\u001b[0m in \u001b[0;36mpandas._libs.index.IndexEngine.get_loc\u001b[1;34m()\u001b[0m\n",
      "\u001b[1;31mTypeError\u001b[0m: '(slice(None, None, None), 1, None)' is an invalid key"
     ]
    }
   ],
   "source": [
    "image2 = data2[:,1,None]\n",
    "pred2 = make_predicitions(image2, W1, b1, W2, b2)\n",
    "image2 = image2.reshape((28,28)) * 255\n",
    "plt.gray()\n",
    "plt.imshow(image2, interpolation='nearest')\n",
    "plt.show()"
   ]
  },
  {
   "cell_type": "code",
   "execution_count": 41,
   "metadata": {
    "execution": {
     "iopub.execute_input": "2022-08-13T13:23:41.719203Z",
     "iopub.status.busy": "2022-08-13T13:23:41.718891Z",
     "iopub.status.idle": "2022-08-13T13:23:42.347324Z",
     "shell.execute_reply": "2022-08-13T13:23:42.346508Z",
     "shell.execute_reply.started": "2022-08-13T13:23:41.719176Z"
    }
   },
   "outputs": [
    {
     "name": "stdout",
     "output_type": "stream",
     "text": [
      "Prediction:  [0]\n",
      "Label:  0\n"
     ]
    },
    {
     "data": {
      "image/png": "[encoded data removed]",
      "text/plain": [
       "<Figure size 432x288 with 1 Axes>"
      ]
     },
     "metadata": {
      "needs_background": "light"
     },
     "output_type": "display_data"
    },
    {
     "name": "stdout",
     "output_type": "stream",
     "text": [
      "Prediction:  [3]\n",
      "Label:  3\n"
     ]
    },
    {
     "data": {
      "image/png": "[encoded data removed]",
      "text/plain": [
       "<Figure size 432x288 with 1 Axes>"
      ]
     },
     "metadata": {
      "needs_background": "light"
     },
     "output_type": "display_data"
    },
    {
     "name": "stdout",
     "output_type": "stream",
     "text": [
      "Prediction:  [5]\n",
      "Label:  5\n"
     ]
    },
    {
     "data": {
      "image/png": "[encoded data removed]",
      "text/plain": [
       "<Figure size 432x288 with 1 Axes>"
      ]
     },
     "metadata": {
      "needs_background": "light"
     },
     "output_type": "display_data"
    },
    {
     "name": "stdout",
     "output_type": "stream",
     "text": [
      "Prediction:  [5]\n",
      "Label:  5\n"
     ]
    },
    {
     "data": {
      "image/png": "[encoded data removed]",
      "text/plain": [
       "<Figure size 432x288 with 1 Axes>"
      ]
     },
     "metadata": {
      "needs_background": "light"
     },
     "output_type": "display_data"
    }
   ],
   "source": [
    "test_prediction(0, W1, b1, W2, b2)\n",
    "test_prediction(1, W1, b1, W2, b2)\n",
    "test_prediction(2, W1, b1, W2, b2)\n",
    "test_prediction(3, W1, b1, W2, b2)"
   ]
  },
  {
   "cell_type": "markdown",
   "metadata": {},
   "source": [
    "Finally, let's find the accuracy on the dev set:"
   ]
  },
  {
   "cell_type": "code",
   "execution_count": 28,
   "metadata": {
    "execution": {
     "iopub.execute_input": "2022-08-13T13:23:42.348609Z",
     "iopub.status.busy": "2022-08-13T13:23:42.348331Z",
     "iopub.status.idle": "2022-08-13T13:23:42.363184Z",
     "shell.execute_reply": "2022-08-13T13:23:42.362029Z",
     "shell.execute_reply.started": "2022-08-13T13:23:42.348582Z"
    }
   },
   "outputs": [
    {
     "name": "stdout",
     "output_type": "stream",
     "text": [
      "[3 7 2 1 4 2 1 8 4 8 2 8 1 1 2 3 2 2 9 7 3 5 2 7 7 9 9 3 1 4 3 2 3 7 7 7 2\n",
      " 6 3 2 8 0 3 7 0 1 0 6 8 6 1 1 1 6 0 3 7 9 0 0 9 6 2 6 7 1 1 2 6 7 8 1 7 0\n",
      " 8 7 4 0 2 9 9 1 2 2 5 5 6 4 9 0 2 3 3 0 3 2 0 4 6 9 8 8 2 9 7 2 6 3 4 3 9\n",
      " 5 5 5 7 3 7 2 8 9 6 5 8 6 0 5 6 1 1 9 7 3 6 6 9 3 4 6 2 2 3 7 2 1 2 3 9 6\n",
      " 7 3 7 8 8 8 5 8 2 0 0 9 3 8 0 4 3 3 0 3 5 6 0 7 3 2 1 7 9 3 9 0 1 9 2 6 2\n",
      " 1 6 1 7 1 0 1 5 0 8 9 5 2 0 5 3 7 2 7 4 0 3 0 9 9 1 6 3 4 1 6 4 6 5 1 9 2\n",
      " 6 3 6 9 7 0 8 9 0 2 4 4 1 2 4 4 6 7 1 0 3 7 6 8 9 4 5 6 9 9 2 4 3 1 6 3 5\n",
      " 0 7 8 1 3 0 4 0 1 0 4 9 4 9 4 9 8 1 5 0 6 1 3 6 7 1 4 5 7 8 4 6 5 3 1 8 1\n",
      " 4 2 0 3 8 3 2 3 3 9 3 1 5 9 4 5 1 1 1 5 9 7 7 8 8 7 5 6 0 5 8 4 9 1 0 0 9\n",
      " 3 4 1 3 9 4 4 4 4 2 9 7 7 8 8 4 5 6 2 6 6 2 6 1 7 2 3 8 5 0 3 4 0 9 5 2 3\n",
      " 0 2 3 1 8 4 3 8 8 5 0 1 6 8 9 6 7 8 7 2 3 0 6 9 1 0 1 3 3 0 4 0 0 0 8 7 9\n",
      " 3 8 0 2 6 5 4 4 3 4 0 6 8 8 7 4 6 9 2 1 6 9 5 3 7 3 1 2 1 0 0 6 8 1 4 0 4\n",
      " 5 7 4 2 2 0 7 6 3 1 6 3 9 7 4 3 3 8 9 4 2 4 3 5 1 6 8 0 4 5 9 1 4 5 9 1 8\n",
      " 0 4 9 4 6 4 1 9 6 0 4 7 0 2 3 9 6 1 0 1 3 2 7 8 8 9 8 8 8 3 4 9 6 3 2 4 6\n",
      " 9 3 8 8 3 2 9 8 0 3 7 8 5 3 1 0 2 0 5 6 5 5 4 1 7 7 3 3 2 9 8 7 1 0 0 6 0\n",
      " 1 7 3 1 6 0 1 5 3 8 6 1 8 1 1 7 2 0 9 9 4 3 5 2 2 8 0 0 6 1 2 8 9 0 1 6 8\n",
      " 6 8 0 2 2 4 1 1 3 0 7 0 4 5 3 0 2 9 9 7 3 6 4 3 4 9 5 2 9 0 0 9 2 9 1 7 1\n",
      " 5 9 2 0 8 2 3 9 8 5 5 7 1 8 0 0 3 9 3 7 4 2 1 9 4 9 5 6 7 7 9 0 3 7 5 9 6\n",
      " 4 0 2 7 7 7 8 0 3 6 1 7 4 3 0 0 1 4 3 7 3 9 7 1 6 9 9 2 5 9 6 2 9 9 9 7 4\n",
      " 8 6 3 3 1 2 8 5 2 1 5 7 7 5 8 3 6 7 8 9 0 8 3 2 6 7 3 2 9 9 4 2 9 5 4 3 3\n",
      " 9 4 0 0 9 8 2 7 9 1 0 2 8 6 3 2 3 4 5 8 2 5 9 9 5 5 9 4 6 2 0 4 1 1 0 1 8\n",
      " 6 9 1 4 9 7 3 2 8 1 8 3 2 4 0 2 6 3 0 8 1 1 8 6 7 4 8 1 2 9 4 1 4 6 6 7 5\n",
      " 2 8 8 3 2 5 7 5 0 1 0 9 1 5 2 4 6 2 8 5 2 3 7 2 4 1 4 8 7 1 3 2 5 9 0 5 8\n",
      " 5 2 7 5 5 0 5 6 7 1 8 4 5 5 3 6 2 4 2 0 7 5 1 4 0 5 4 3 3 2 1 8 6 3 5 7 0\n",
      " 0 8 9 7 0 2 0 9 9 2 9 2 6 0 0 0 6 0 4 8 8 5 8 3 4 6 0 5 5 9 1 3 3 3 9 6 6\n",
      " 2 8 2 4 3 0 5 8 9 3 1 2 4 1 4 1 0 6 7 7 7 1 4 1 3 9 3 8 7 4 7 5 9 1 2 2 5\n",
      " 9 4 0 2 4 3 6 8 2 5 1 8 6 8 2 2 4 4 0 8 2 0 3 5 5 9 0 4 9 2 1 1 8 4 2 8 2\n",
      " 9] [3 7 6 1 2 1 1 5 4 8 2 8 1 1 2 3 2 2 9 7 3 3 2 7 7 4 4 3 1 4 3 2 3 7 7 7 2\n",
      " 6 5 2 8 0 3 3 0 1 6 6 8 6 1 1 1 6 0 9 7 9 0 0 9 2 2 6 2 1 1 9 6 7 8 1 7 0\n",
      " 8 7 4 0 8 9 7 1 2 2 5 5 6 4 9 0 2 3 4 0 3 2 0 9 6 9 8 8 2 9 4 2 6 3 4 3 7\n",
      " 5 5 2 7 3 7 2 6 9 6 5 8 6 0 5 6 1 1 9 8 3 6 6 9 3 4 6 5 2 8 7 8 1 2 5 4 7\n",
      " 7 3 7 8 8 8 5 8 2 0 0 9 3 8 0 4 3 3 0 1 5 5 0 7 3 2 1 7 9 1 9 0 1 9 2 6 2\n",
      " 1 6 1 7 1 0 1 5 0 6 9 5 2 5 5 3 7 2 7 4 0 3 0 9 9 1 4 3 4 1 6 4 6 5 1 4 2\n",
      " 5 3 6 9 7 0 9 9 0 2 4 4 1 2 4 4 7 1 1 0 3 7 6 8 8 4 5 6 9 9 2 4 3 8 6 3 3\n",
      " 0 7 8 1 3 0 4 0 1 0 4 7 4 9 4 9 8 1 8 0 6 1 3 6 7 1 4 5 7 8 9 6 5 3 1 8 8\n",
      " 4 5 5 3 2 3 2 2 3 4 3 1 8 9 4 5 1 1 1 5 5 7 7 8 0 7 3 6 0 5 8 4 9 1 0 0 9\n",
      " 3 5 1 3 9 4 4 4 4 2 9 7 7 8 2 4 5 6 2 6 5 6 6 1 7 8 3 8 5 0 3 4 0 9 5 2 3\n",
      " 5 2 3 1 8 4 5 5 8 5 0 7 6 0 9 6 7 7 7 2 0 0 6 9 1 5 1 3 3 0 4 0 0 0 8 7 9\n",
      " 2 8 0 2 6 3 4 4 3 4 0 6 8 8 7 4 6 4 2 1 6 7 3 3 7 3 1 2 1 0 0 6 8 1 4 0 4\n",
      " 5 7 4 2 3 0 7 6 3 1 6 3 9 7 4 3 3 8 7 4 6 5 2 5 1 6 8 0 4 5 9 3 4 5 4 1 8\n",
      " 0 4 7 4 6 4 1 9 6 0 4 7 0 2 3 9 6 1 0 1 3 2 7 8 8 9 8 8 8 3 4 9 6 3 2 4 2\n",
      " 4 3 0 8 3 2 8 8 0 3 7 8 5 3 1 0 2 5 0 6 5 5 4 1 7 7 5 5 2 9 8 7 1 0 0 6 5\n",
      " 1 4 3 1 6 0 1 5 3 8 6 1 3 1 1 7 2 0 9 9 4 3 5 2 2 8 0 0 6 1 2 8 9 0 1 6 8\n",
      " 6 8 0 3 5 9 1 1 7 0 7 0 9 8 3 0 2 8 4 7 4 6 4 3 4 4 5 2 9 0 8 9 2 9 1 7 6\n",
      " 5 9 2 0 8 5 5 9 8 5 5 7 3 8 0 0 3 9 3 7 4 1 7 9 4 9 5 6 7 7 9 0 3 7 5 9 6\n",
      " 9 0 2 7 7 7 7 3 3 6 1 7 4 9 0 0 1 4 3 7 3 9 7 1 6 9 9 2 3 9 6 2 9 9 9 7 4\n",
      " 5 6 3 3 1 6 3 5 3 1 5 7 7 2 8 3 6 7 8 9 6 8 3 8 6 7 8 2 9 5 4 2 9 5 6 5 3\n",
      " 9 4 0 0 4 3 2 3 9 1 0 3 8 6 3 2 3 4 6 8 2 5 9 9 5 5 9 4 6 2 8 4 1 1 0 1 8\n",
      " 6 9 1 4 9 7 3 8 4 1 8 3 2 4 6 3 6 3 0 5 1 1 8 6 5 4 8 1 8 9 6 1 4 6 6 2 9\n",
      " 2 8 8 3 2 5 7 5 0 5 2 7 1 8 6 4 6 2 8 5 2 3 7 2 4 1 9 8 7 1 3 8 5 9 0 5 8\n",
      " 5 5 7 5 5 0 8 6 7 1 8 4 5 3 3 6 2 4 2 0 7 5 1 4 0 5 4 5 5 2 1 8 6 3 5 7 0\n",
      " 0 8 9 9 0 5 0 3 9 6 9 2 6 0 0 0 6 0 4 8 8 5 8 3 4 6 0 5 0 9 1 3 8 7 9 6 6\n",
      " 2 8 6 4 3 0 8 8 9 3 1 2 4 1 4 1 0 6 7 7 7 1 4 1 3 7 3 8 7 4 7 5 9 1 2 2 5\n",
      " 9 4 0 0 4 3 6 3 2 5 1 8 6 8 2 2 4 4 0 2 5 0 3 5 5 9 0 4 7 2 1 1 3 4 5 8 2\n",
      " 9]\n"
     ]
    },
    {
     "data": {
      "text/plain": [
       "0.829"
      ]
     },
     "execution_count": 28,
     "metadata": {},
     "output_type": "execute_result"
    }
   ],
   "source": [
    "dev_predictions = make_predictions(X_dev, W1, b1, W2, b2)\n",
    "get_accuracy(dev_predictions, Y_dev)"
   ]
  },
  {
   "cell_type": "markdown",
   "metadata": {},
   "source": [
    "Here we get 82% accuracy, so our model generalized from the training data pretty well."
   ]
  },
  {
   "cell_type": "code",
   "execution_count": null,
   "metadata": {},
   "outputs": [],
   "source": []
  }
 ],
 "metadata": {
  "kernelspec": {
   "display_name": "Python 3",
   "language": "python",
   "name": "python3"
  },
  "language_info": {
   "codemirror_mode": {
    "name": "ipython",
    "version": 3
   },
   "file_extension": ".py",
   "mimetype": "text/x-python",
   "name": "python",
   "nbconvert_exporter": "python",
   "pygments_lexer": "ipython3",
   "version": "3.8.8"
  }
 },
 "nbformat": 4,
 "nbformat_minor": 4
}
